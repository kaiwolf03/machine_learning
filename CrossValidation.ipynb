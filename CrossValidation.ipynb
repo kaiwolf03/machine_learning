{
 "cells": [
  {
   "cell_type": "markdown",
   "metadata": {},
   "source": [
    "#### Data preparation"
   ]
  },
  {
   "cell_type": "code",
   "execution_count": 1,
   "metadata": {},
   "outputs": [],
   "source": [
    "import numpy as np\n",
    "np.random.seed(42)"
   ]
  },
  {
   "cell_type": "code",
   "execution_count": 2,
   "metadata": {},
   "outputs": [],
   "source": [
    "import matplotlib.pyplot as plt\n",
    "from sklearn.neighbors import KNeighborsClassifier\n",
    "from sklearn.model_selection import train_test_split\n",
    "from sklearn.datasets import load_breast_cancer"
   ]
  },
  {
   "cell_type": "code",
   "execution_count": 3,
   "metadata": {},
   "outputs": [
    {
     "name": "stdout",
     "output_type": "stream",
     "text": [
      "x_train shape: (455, 30) x_test.shape: (114, 30)\n"
     ]
    }
   ],
   "source": [
    "dataset = load_breast_cancer()\n",
    "x = dataset.data\n",
    "y = dataset.target\n",
    "\n",
    "x_train, x_test, y_train, y_test = train_test_split(x, y, test_size=0.2)\n",
    "print(f\"x_train shape: {x_train.shape} x_test.shape: {x_test.shape}\")"
   ]
  },
  {
   "cell_type": "markdown",
   "metadata": {},
   "source": [
    "#### Cross Validation"
   ]
  },
  {
   "cell_type": "code",
   "execution_count": 4,
   "metadata": {},
   "outputs": [],
   "source": [
    "from sklearn.model_selection import KFold\n",
    "from sklearn.model_selection import cross_val_score\n",
    "from sklearn.model_selection import cross_val_predict"
   ]
  },
  {
   "cell_type": "code",
   "execution_count": 5,
   "metadata": {},
   "outputs": [
    {
     "name": "stdout",
     "output_type": "stream",
     "text": [
      "Accuracies:\n",
      "[0.97826087 0.93478261 0.95652174 0.86956522 0.84782609 0.93333333\n",
      " 0.84444444 0.91111111 0.88888889 0.93333333]\n",
      "Mean Score: 0.9098067632850242\n",
      "Std Score: 0.043326115976493135\n"
     ]
    }
   ],
   "source": [
    "kf = KFold(n_splits=10, shuffle=True)\n",
    "clf = KNeighborsClassifier(n_neighbors=2)\n",
    "\n",
    "scores = cross_val_score(clf, x_train, y_train, cv=kf, n_jobs=-1)\n",
    "predictions = cross_val_predict(clf, x_train, y_train, cv=kf, n_jobs=-1)\n",
    "mean_score = np.mean(scores)\n",
    "std_score = np.std(scores)\n",
    "\n",
    "print(f\"Accuracies:\\n{scores}\")\n",
    "print(f\"Mean Score: {mean_score}\")\n",
    "print(f\"Std Score: {std_score}\")"
   ]
  },
  {
   "cell_type": "code",
   "execution_count": 6,
   "metadata": {
    "scrolled": true
   },
   "outputs": [
    {
     "name": "stdout",
     "output_type": "stream",
     "text": [
      "Accuracies:\n",
      "[1.         0.89130435 0.91304348 0.91304348 0.91304348 0.95555556\n",
      " 0.93333333 0.95555556 0.86666667 0.88888889]\n",
      "Mean Score: 0.9230434782608696\n",
      "Std Score: 0.037140962503793375\n"
     ]
    }
   ],
   "source": [
    "kf = KFold(n_splits=10, shuffle=True)\n",
    "clf = KNeighborsClassifier(n_neighbors=3)\n",
    "\n",
    "scores = cross_val_score(clf, x_train, y_train, cv=kf, n_jobs=-1)\n",
    "predictions = cross_val_predict(clf, x_train, y_train, cv=kf, n_jobs=-1)\n",
    "mean_score = np.mean(scores)\n",
    "std_score = np.std(scores)\n",
    "\n",
    "print(f\"Accuracies:\\n{scores}\")\n",
    "print(f\"Mean Score: {mean_score}\")\n",
    "print(f\"Std Score: {std_score}\")"
   ]
  },
  {
   "cell_type": "code",
   "execution_count": 7,
   "metadata": {},
   "outputs": [
    {
     "name": "stdout",
     "output_type": "stream",
     "text": [
      "Accuracies:\n",
      "[0.93478261 0.95652174 0.91304348 0.93478261 0.82608696 0.91111111\n",
      " 0.97777778 0.84444444 0.95555556 0.91111111]\n",
      "Mean Score: 0.9165217391304348\n",
      "Std Score: 0.04581167341908331\n"
     ]
    }
   ],
   "source": [
    "kf = KFold(n_splits=10, shuffle=True)\n",
    "clf = KNeighborsClassifier(n_neighbors=4)\n",
    "\n",
    "scores = cross_val_score(clf, x_train, y_train, cv=kf, n_jobs=-1)\n",
    "predictions = cross_val_predict(clf, x_train, y_train, cv=kf, n_jobs=-1)\n",
    "mean_score = np.mean(scores)\n",
    "std_score = np.std(scores)\n",
    "\n",
    "print(f\"Accuracies:\\n{scores}\")\n",
    "print(f\"Mean Score: {mean_score}\")\n",
    "print(f\"Std Score: {std_score}\")"
   ]
  },
  {
   "cell_type": "code",
   "execution_count": 8,
   "metadata": {
    "scrolled": true
   },
   "outputs": [
    {
     "data": {
      "image/png": "[encoded data removed]",
      "text/plain": [
       "<Figure size 432x288 with 1 Axes>"
      ]
     },
     "metadata": {
      "needs_background": "light"
     },
     "output_type": "display_data"
    }
   ],
   "source": [
    "plt.plot(range(len(scores)), scores, color=\"blue\")\n",
    "plt.xlim(0, 10)\n",
    "plt.ylim(0.85, 1)\n",
    "plt.axhline(mean_score, linestyle=\"-\", color=\"red\")\n",
    "plt.legend([\"Validation Scores\", \"Mean Score\"])\n",
    "plt.show()"
   ]
  }
 ],
 "metadata": {
  "kernelspec": {
   "display_name": "Python 3.9.12 ('base')",
   "language": "python",
   "name": "python3"
  },
  "language_info": {
   "codemirror_mode": {
    "name": "ipython",
    "version": 3
   },
   "file_extension": ".py",
   "mimetype": "text/x-python",
   "name": "python",
   "nbconvert_exporter": "python",
   "pygments_lexer": "ipython3",
   "version": "3.9.12"
  },
  "vscode": {
   "interpreter": {
    "hash": "f08154012ddadd8e950e6e9e035c7a7b32c136e7647e9b7c77e02eb723a8bedb"
   }
  }
 },
 "nbformat": 4,
 "nbformat_minor": 2
}
