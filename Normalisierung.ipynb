{
 "cells": [
  {
   "cell_type": "code",
   "execution_count": 1,
   "metadata": {},
   "outputs": [],
   "source": [
    "import numpy as np\n",
    "np.random.seed(42)"
   ]
  },
  {
   "cell_type": "code",
   "execution_count": 2,
   "metadata": {},
   "outputs": [],
   "source": [
    "import matplotlib.pyplot as plt\n",
    "import seaborn as sns\n",
    "from sklearn.datasets import make_blobs\n",
    "from sklearn.model_selection import train_test_split"
   ]
  },
  {
   "cell_type": "code",
   "execution_count": 3,
   "metadata": {},
   "outputs": [],
   "source": [
    "x, y = make_blobs(n_samples=100, centers=1, n_features=2)\n",
    "\n",
    "x_train, x_test, y_train, y_test = train_test_split(x, y, test_size=0.3)"
   ]
  },
  {
   "cell_type": "code",
   "execution_count": 4,
   "metadata": {},
   "outputs": [],
   "source": [
    "def dataset_stats(x: np.ndarray) -> None:\n",
    "    print(f\"Min: {np.min(x, axis=0)}\")\n",
    "    print(f\"Max: {np.max(x, axis=0)}\")\n",
    "    print(f\"Mean: {np.mean(x, axis=0)}\")\n",
    "    print(f\"Std: {np.std(x, axis=0)}\")"
   ]
  },
  {
   "cell_type": "code",
   "execution_count": 5,
   "metadata": {},
   "outputs": [],
   "source": [
    "def plot_dist(x: np.ndarray) -> None:\n",
    "    sns.jointplot(x=x[:, 0], y=x[:, 1])\n",
    "    plt.show()"
   ]
  },
  {
   "cell_type": "code",
   "execution_count": 6,
   "metadata": {},
   "outputs": [
    {
     "name": "stdout",
     "output_type": "stream",
     "text": [
      "Min: [-5.12894273  7.02671721]\n",
      "Max: [-0.64342311 11.73445529]\n",
      "Mean: [-2.64201209  9.04633803]\n",
      "Std: [0.82256171 0.99101696]\n"
     ]
    }
   ],
   "source": [
    "dataset_stats(x_train)"
   ]
  },
  {
   "cell_type": "code",
   "execution_count": 7,
   "metadata": {},
   "outputs": [
    {
     "data": {
      "image/png": "[encoded data removed]",
      "text/plain": [
       "<Figure size 432x432 with 3 Axes>"
      ]
     },
     "metadata": {
      "needs_background": "light"
     },
     "output_type": "display_data"
    }
   ],
   "source": [
    "plot_dist(x_train)"
   ]
  },
  {
   "cell_type": "markdown",
   "metadata": {},
   "source": [
    "## MinMax Scaler"
   ]
  },
  {
   "cell_type": "code",
   "execution_count": 8,
   "metadata": {},
   "outputs": [],
   "source": [
    "class MinMaxScaler:\n",
    "    def __init__(self) -> None:\n",
    "        self.data_min: np.ndarray = None\n",
    "        self.data_max: np.ndarray = None\n",
    "\n",
    "    def fit(self, x: np.ndarray) -> None:\n",
    "        self.data_min = np.min(x, axis=0)\n",
    "        self.data_max = np.max(x, axis=0)\n",
    "\n",
    "    def transform(self, x: np.ndarray) -> np.ndarray:\n",
    "        x_transformed = (x - self.data_min) / (self.data_max - self.data_min)\n",
    "        return x_transformed"
   ]
  },
  {
   "cell_type": "code",
   "execution_count": 9,
   "metadata": {},
   "outputs": [],
   "source": [
    "scaler = MinMaxScaler()\n",
    "scaler.fit(x_train)\n",
    "x_train_transformed = scaler.transform(x_train)"
   ]
  },
  {
   "cell_type": "code",
   "execution_count": 10,
   "metadata": {},
   "outputs": [
    {
     "name": "stdout",
     "output_type": "stream",
     "text": [
      "Min: [0. 0.]\n",
      "Max: [1. 1.]\n",
      "Mean: [0.55443535 0.42900025]\n",
      "Std: [0.18338159 0.21050809]\n"
     ]
    }
   ],
   "source": [
    "dataset_stats(x_train_transformed)"
   ]
  },
  {
   "cell_type": "code",
   "execution_count": 11,
   "metadata": {},
   "outputs": [
    {
     "data": {
      "image/png": "[encoded data removed]",
      "text/plain": [
       "<Figure size 432x432 with 3 Axes>"
      ]
     },
     "metadata": {
      "needs_background": "light"
     },
     "output_type": "display_data"
    }
   ],
   "source": [
    "plot_dist(x_train_transformed)"
   ]
  },
  {
   "cell_type": "markdown",
   "metadata": {},
   "source": [
    "## Standard Scaler"
   ]
  },
  {
   "cell_type": "code",
   "execution_count": 12,
   "metadata": {},
   "outputs": [],
   "source": [
    "class StandardScaler:\n",
    "    def __init__(self) -> None:\n",
    "        self.mean_: np.ndarray = None\n",
    "        self.scale_: np.ndarray = None\n",
    "\n",
    "    def fit(self, x: np.ndarray) -> None:\n",
    "        self.mean_ = np.mean(x, axis=0)\n",
    "        self.scale_ = np.std(x, axis=0)\n",
    "\n",
    "    def transform(self, x: np.ndarray) -> np.ndarray:\n",
    "        x_transformed = (x - self.mean_) / self.scale_\n",
    "        return x_transformed"
   ]
  },
  {
   "cell_type": "code",
   "execution_count": 13,
   "metadata": {},
   "outputs": [],
   "source": [
    "scaler = StandardScaler()\n",
    "scaler.fit(x_train)\n",
    "x_train_transformed = scaler.transform(x_train)"
   ]
  },
  {
   "cell_type": "code",
   "execution_count": 14,
   "metadata": {},
   "outputs": [
    {
     "name": "stdout",
     "output_type": "stream",
     "text": [
      "Min: [-3.02339704 -2.03792761]\n",
      "Max: [2.42971313 2.71248361]\n",
      "Mean: [ 2.71211625e-16 -1.64788818e-15]\n",
      "Std: [1. 1.]\n"
     ]
    }
   ],
   "source": [
    "dataset_stats(x_train_transformed)"
   ]
  },
  {
   "cell_type": "code",
   "execution_count": 15,
   "metadata": {},
   "outputs": [
    {
     "data": {
      "image/png": "[encoded data removed]",
      "text/plain": [
       "<Figure size 432x432 with 3 Axes>"
      ]
     },
     "metadata": {
      "needs_background": "light"
     },
     "output_type": "display_data"
    }
   ],
   "source": [
    "plot_dist(x_train_transformed)"
   ]
  }
 ],
 "metadata": {
  "kernelspec": {
   "display_name": "Python 3.9.12 ('base')",
   "language": "python",
   "name": "python3"
  },
  "language_info": {
   "codemirror_mode": {
    "name": "ipython",
    "version": 3
   },
   "file_extension": ".py",
   "mimetype": "text/x-python",
   "name": "python",
   "nbconvert_exporter": "python",
   "pygments_lexer": "ipython3",
   "version": "3.9.12"
  },
  "orig_nbformat": 4,
  "vscode": {
   "interpreter": {
    "hash": "f08154012ddadd8e950e6e9e035c7a7b32c136e7647e9b7c77e02eb723a8bedb"
   }
  }
 },
 "nbformat": 4,
 "nbformat_minor": 2
}
